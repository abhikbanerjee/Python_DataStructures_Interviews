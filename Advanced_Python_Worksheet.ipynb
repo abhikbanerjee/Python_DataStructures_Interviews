{
 "cells": [
  {
   "cell_type": "markdown",
   "metadata": {},
   "source": [
    "## Advanced Python course worksheet\n",
    "https://www.lynda.com/Python-tutorials/Itertools/699337/774160-4.html?autoplay=true"
   ]
  },
  {
   "cell_type": "code",
   "execution_count": 2,
   "metadata": {},
   "outputs": [],
   "source": [
    "nums = (12,23,44,56,88,12,884,862,123,22,35,56,78)\n",
    "chars = \"aCfhbjKlyyWXhh\"\n",
    "grades = (81,89,94,78,61,66,99,74)\n",
    "\n",
    "\n",
    "days = [\"Sun\", \"Mon\", \"Tue\", \"Wed\", \"Thu\", \"Fri\", \"Sat\"]\n",
    "daysFr = [\"Dim\", \"Lun\", \"Mar\", \"Mer\", \"Jeu\", \"Ven\", \"Sam\"]"
   ]
  },
  {
   "cell_type": "markdown",
   "metadata": {},
   "source": [
    "### Test Iter, enumerate methods "
   ]
  },
  {
   "cell_type": "code",
   "execution_count": 7,
   "metadata": {},
   "outputs": [
    {
     "name": "stdout",
     "output_type": "stream",
     "text": [
      "Sun\n",
      "Mon\n",
      "Tue\n",
      " \n",
      "1  -  Sun\n",
      "2  -  Mon\n",
      "3  -  Tue\n",
      "4  -  Wed\n",
      "5  -  Thu\n",
      "6  -  Fri\n",
      "7  -  Sat\n",
      " \n",
      "0 Sun = Dim  in french\n",
      "1 Mon = Lun  in french\n",
      "2 Tue = Mar  in french\n",
      "3 Wed = Mer  in french\n",
      "4 Thu = Jeu  in french\n",
      "5 Fri = Ven  in french\n",
      "6 Sat = Sam  in french\n"
     ]
    }
   ],
   "source": [
    "# use iter method\n",
    "k = iter(days)\n",
    "print(next(k))\n",
    "print(next(k))\n",
    "print(next(k))\n",
    "\n",
    "print(\" \")\n",
    "#use enumarate method\n",
    "for i,m in enumerate(days, start=1):\n",
    "    print(i,\" - \", m)\n",
    "    \n",
    "print(\" \")\n",
    "# use zip to combine 2 lists and try\n",
    "for i,k in enumerate(zip(days,daysFr)):\n",
    "    print(i,k[0],\"=\", k[1],\" in french\")"
   ]
  },
  {
   "cell_type": "markdown",
   "metadata": {},
   "source": [
    "### Check Filter, Map methods"
   ]
  },
  {
   "cell_type": "code",
   "execution_count": 10,
   "metadata": {},
   "outputs": [
    {
     "name": "stdout",
     "output_type": "stream",
     "text": [
      "[23, 123, 35]\n",
      " \n",
      "['a', 'f', 'h', 'b', 'j', 'l', 'y', 'y', 'h', 'h']\n",
      " \n",
      "['B', 'B', 'A', 'C', 'E', 'E', 'A', 'C']\n"
     ]
    }
   ],
   "source": [
    "# Usage of filter methods\n",
    "def evenFunc(x):\n",
    "    if x%2==0:\n",
    "        return False\n",
    "    else:\n",
    "        return True\n",
    "\n",
    "def charFunc(x):\n",
    "    if x.isupper():\n",
    "        return False\n",
    "    else:\n",
    "        return True\n",
    "    \n",
    "print(list(filter(evenFunc, nums)))\n",
    "print(\" \")\n",
    "print(list(filter(charFunc, chars)))\n",
    "\n",
    "# Use of Map method \n",
    "def gradeFunc(x):\n",
    "    if x>=90:\n",
    "        return \"A\"\n",
    "    elif x>=80 and x<90:\n",
    "        return \"B\"\n",
    "    elif x>=70 and x<80:\n",
    "        return \"C\"\n",
    "    elif x>=70 and x<60:\n",
    "        return \"D\"\n",
    "    else:\n",
    "        return \"E\"\n",
    "    \n",
    "print(\" \")\n",
    "print(list(map(gradeFunc, grades)))"
   ]
  },
  {
   "cell_type": "markdown",
   "metadata": {},
   "source": [
    "### Usage of Itertools"
   ]
  },
  {
   "cell_type": "code",
   "execution_count": 16,
   "metadata": {},
   "outputs": [
    {
     "name": "stdout",
     "output_type": "stream",
     "text": [
      "Joe\n",
      "Moe\n",
      "Koe\n",
      "Joe\n",
      " \n",
      "100\n",
      "120\n",
      "140\n",
      " \n",
      "[10, 30, 60, 100, 150, 190, 250, 330]\n",
      "[10, 20, 30, 40, 50, 50, 60, 80]\n",
      " \n",
      "[40, 50, 40, 60, 80]\n",
      "[10, 20, 30]\n",
      " \n"
     ]
    }
   ],
   "source": [
    "import itertools\n",
    "\n",
    "seq1 = [\"Joe\", \"Moe\", \"Koe\"]\n",
    "\n",
    "#cycle function\n",
    "val = itertools.cycle(seq1)\n",
    "print(next(val))\n",
    "print(next(val))\n",
    "print(next(val))\n",
    "print(next(val))\n",
    "print(\" \")\n",
    "\n",
    "# Count function\n",
    "count1 = itertools.count(100,20)\n",
    "print(next(count1))\n",
    "print(next(count1))\n",
    "print(next(count1))\n",
    "print(\" \")\n",
    "\n",
    "# Accumulate Function \n",
    "vals = [10,20,30,40,50,40,60,80]\n",
    "\n",
    "print(list(itertools.accumulate(vals))) # default gives a running sum of the sequence\n",
    "print(list(itertools.accumulate(vals, max))) # can be overridden to give the max\n",
    "print(\" \")\n",
    "\n",
    "# dropwhile and takewhile (takes the values from a list and also a predicate function)\n",
    "def testFunc(x):\n",
    "    return x < 40\n",
    "\n",
    "print(list(itertools.dropwhile(testFunc, vals)))\n",
    "print(list(itertools.takewhile(testFunc, vals)))\n",
    "print(\" \")\n",
    "\n"
   ]
  },
  {
   "cell_type": "markdown",
   "metadata": {},
   "source": [
    "### Documentations"
   ]
  },
  {
   "cell_type": "code",
   "execution_count": 18,
   "metadata": {},
   "outputs": [
    {
     "name": "stdout",
     "output_type": "stream",
     "text": [
      "map(func, *iterables) --> map object\n",
      "\n",
      "Make an iterator that computes the function using arguments from\n",
      "each of the iterables.  Stops when the shortest iterable is exhausted.\n",
      " \n",
      "This module implements specialized container datatypes providing\n",
      "alternatives to Python's general purpose built-in containers, dict,\n",
      "list, set, and tuple.\n",
      "\n",
      "* namedtuple   factory function for creating tuple subclasses with named fields\n",
      "* deque        list-like container with fast appends and pops on either end\n",
      "* ChainMap     dict-like class for creating a single view of multiple mappings\n",
      "* Counter      dict subclass for counting hashable objects\n",
      "* OrderedDict  dict subclass that remembers the order entries were added\n",
      "* defaultdict  dict subclass that calls a factory function to supply missing values\n",
      "* UserDict     wrapper around dictionary objects for easier dict subclassing\n",
      "* UserList     wrapper around list objects for easier list subclassing\n",
      "* UserString   wrapper around string objects for easier string subclassing\n",
      "\n",
      "\n",
      " \n"
     ]
    }
   ],
   "source": [
    "print(map.__doc__)\n",
    "print(\" \")\n",
    "\n",
    "import collections\n",
    "print(collections.__doc__)\n",
    "print(\" \")"
   ]
  },
  {
   "cell_type": "code",
   "execution_count": null,
   "metadata": {},
   "outputs": [],
   "source": []
  },
  {
   "cell_type": "code",
   "execution_count": null,
   "metadata": {},
   "outputs": [],
   "source": []
  },
  {
   "cell_type": "code",
   "execution_count": null,
   "metadata": {},
   "outputs": [],
   "source": []
  },
  {
   "cell_type": "code",
   "execution_count": null,
   "metadata": {},
   "outputs": [],
   "source": []
  },
  {
   "cell_type": "code",
   "execution_count": null,
   "metadata": {},
   "outputs": [],
   "source": []
  },
  {
   "cell_type": "code",
   "execution_count": null,
   "metadata": {},
   "outputs": [],
   "source": []
  },
  {
   "cell_type": "code",
   "execution_count": null,
   "metadata": {},
   "outputs": [],
   "source": []
  },
  {
   "cell_type": "code",
   "execution_count": null,
   "metadata": {},
   "outputs": [],
   "source": []
  }
 ],
 "metadata": {
  "kernelspec": {
   "display_name": "Python 3",
   "language": "python",
   "name": "python3"
  },
  "language_info": {
   "codemirror_mode": {
    "name": "ipython",
    "version": 3
   },
   "file_extension": ".py",
   "mimetype": "text/x-python",
   "name": "python",
   "nbconvert_exporter": "python",
   "pygments_lexer": "ipython3",
   "version": "3.6.4"
  }
 },
 "nbformat": 4,
 "nbformat_minor": 2
}
